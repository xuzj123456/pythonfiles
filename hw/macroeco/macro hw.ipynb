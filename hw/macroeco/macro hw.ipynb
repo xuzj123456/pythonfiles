{
 "cells": [
  {
   "cell_type": "markdown",
   "metadata": {},
   "source": [
    "<font face=\"黑体\" size=3><center>姓名：徐子杰</center>\n",
    "<font face=\"黑体\" size=3><center>学号：2016302010098</center>\n",
    "<font face=\"黑体\" size=3><center>专业：数理金融</center>"
   ]
  },
  {
   "cell_type": "markdown",
   "metadata": {},
   "source": [
    "### 1."
   ]
  },
  {
   "cell_type": "markdown",
   "metadata": {},
   "source": [
    "根据欧拉方程与消费约束\n",
    "$$\\begin{aligned}\\frac{c_{t+1}}{c_t} &= \\beta [\\alpha  k_{t+1}^{\\alpha-1} + (1-\\delta)]\\end{aligned}$$\n",
    "$$\\begin{aligned}c_t+k_{t+1} -(1-\\delta)k_t &= k_t^{\\alpha}\\end{aligned}$$"
   ]
  },
  {
   "cell_type": "markdown",
   "metadata": {},
   "source": [
    "与已有数据计算出下列数据:"
   ]
  },
  {
   "cell_type": "code",
   "execution_count": 1,
   "metadata": {},
   "outputs": [],
   "source": [
    "delta, alpha, beta = 0.05, 0.3, 0.95\n",
    "k_ss = ((1/beta-1+delta)/alpha)**(1/(alpha-1))\n",
    "k_0 = k_ss/2\n",
    "k_max = (1/delta)**(1/(1-alpha))\n",
    "k_G = (alpha/delta)**(1/(1-alpha))"
   ]
  },
  {
   "cell_type": "markdown",
   "metadata": {},
   "source": [
    "并定义一个$\\begin{aligned}\\dot{k}=0\\end{aligned}$的函数css:"
   ]
  },
  {
   "cell_type": "code",
   "execution_count": 2,
   "metadata": {},
   "outputs": [],
   "source": [
    "def css(k):\n",
    "    return k**alpha-delta*k\n",
    "c_ss = css(k_ss)\n",
    "c_max = css(k_G)"
   ]
  },
  {
   "cell_type": "markdown",
   "metadata": {},
   "source": [
    "在已有$k_{ss}$与$c_{ss}$的情况下通过将$k_t^{\\alpha}$进行泰勒展开得到$k_t^{\\alpha}=k_{ss}^{\\alpha}+\\alpha*k_{ss}^{\\alpha-1}*(k_t-k_{ss})$,得到公式\n",
    "$$\\begin{aligned}\n",
    "c_t=\\frac{c_{t+1}}{\\beta*((1-\\delta)+\\alpha*k_{t+1}^{\\alpha-1})}\n",
    "\\end{aligned}$$\n",
    "$$\\begin{aligned}\n",
    "k_t=\\frac{c_t+k_{t+1}+(\\alpha-1)*k_{ss}^{\\alpha}}{\\alpha*k_{ss}^{\\alpha-1}+(1-\\delta)}\n",
    "\\end{aligned}$$"
   ]
  },
  {
   "cell_type": "markdown",
   "metadata": {},
   "source": [
    "因此可以定义一个进行backward shooting的函数:"
   ]
  },
  {
   "cell_type": "code",
   "execution_count": 3,
   "metadata": {},
   "outputs": [],
   "source": [
    "import numpy as np\n",
    "def backward(n=200):\n",
    "    c = np.zeros((n, 1))\n",
    "    k = np.zeros((n, 1))\n",
    "    c[n-1] = c_ss\n",
    "    k[n-1] = k_ss-0.001     # 让c_t+1与c_t的比值略大于1\n",
    "    for i in range(n-1, 0, -1):\n",
    "        c[i-1] = c[i]/(beta*((1-delta)+alpha*k[i]**(alpha-1)))\n",
    "        k[i-1] = (c[i-1]+k[i]+(alpha-1)*k_ss**alpha)/(alpha*k_ss**(alpha-1)+(1-delta))\n",
    "        if k[i-1] <= k_0:   \n",
    "            c = c[i-1:]\n",
    "            k = k[i-1:]     # 选取非零的有效期数\n",
    "            break\n",
    "    return k, c"
   ]
  },
  {
   "cell_type": "code",
   "execution_count": 4,
   "metadata": {},
   "outputs": [],
   "source": [
    "k_back, c_back = backward()"
   ]
  },
  {
   "cell_type": "markdown",
   "metadata": {},
   "source": [
    "这样就得到了收敛于均衡点的序列，通过定义一个画图函数来作图："
   ]
  },
  {
   "cell_type": "code",
   "execution_count": 5,
   "metadata": {},
   "outputs": [],
   "source": [
    "import matplotlib.pyplot as plt\n",
    "def plot_func(k, c, title):\n",
    "    fig, ax = plt.subplots()\n",
    "    plt.xlim((0, k_max))\n",
    "    plt.ylim((0, 1.5*c_max))\n",
    "    k_simulation = np.linspace(0, k_max, 500)\n",
    "    ax.plot(k_simulation, css(k_simulation), label ='$\\dotk=0$', linestyle = '-.')\n",
    "    plt.axvline(x = k_ss, ymin = 0, ymax = 1.5*c_max, label = '$\\dotc=0$', linestyle = '-')\n",
    "    plt.axvline(x = k_0, ymin = 0 ,ymax = 1.5*c_max, label = '$k_0$', linestyle = ':')\n",
    "    ax.plot(k, c, label = \"stable saddle path\", linewidth = 2, linestyle = '--')\n",
    "    ax.legend(loc = \"upper right\")\n",
    "    ax.set_title(title, fontsize = 20, fontweight = 'heavy')\n",
    "    plt.show()"
   ]
  },
  {
   "cell_type": "code",
   "execution_count": 6,
   "metadata": {},
   "outputs": [
    {
     "data": {
      "image/png": "[encoded data removed]",
      "text/plain": [
       "<Figure size 432x288 with 1 Axes>"
      ]
     },
     "metadata": {
      "needs_background": "light"
     },
     "output_type": "display_data"
    }
   ],
   "source": [
    "plot_func(k_back, c_back, 'Backward method')"
   ]
  },
  {
   "cell_type": "markdown",
   "metadata": {},
   "source": [
    "c_back的长度为75期，即通过了75期从初始状态收敛到稳定状态。"
   ]
  },
  {
   "cell_type": "markdown",
   "metadata": {},
   "source": [
    "求出数据$\\frac{k_t}{y_t}$与$\\ln(\\frac{k_t}{y_t})-1$"
   ]
  },
  {
   "cell_type": "code",
   "execution_count": 7,
   "metadata": {},
   "outputs": [],
   "source": [
    "sr = k_back/c_back\n",
    "lsr = np.log(sr)-1"
   ]
  },
  {
   "cell_type": "code",
   "execution_count": 8,
   "metadata": {},
   "outputs": [
    {
     "data": {
      "text/plain": [
       "array([[-0.17475736, -0.09967009, -0.04331616,  0.00045957,  0.03532862,\n",
       "         0.06363646,  0.08696127,  0.10640909,  0.12278092,  0.13667275,\n",
       "         0.14853816,  0.15872902,  0.16752282,  0.1751415 ,  0.18176478,\n",
       "         0.18753975,  0.19258796,  0.19701069,  0.20089294,  0.20430652,\n",
       "         0.20731246,  0.20996286,  0.21230244,  0.21436973,  0.21619804,\n",
       "         0.21781624,  0.21924947,  0.22051965,  0.22164594,  0.2226451 ,\n",
       "         0.22353186,  0.22431917,  0.22501839,  0.22563958,  0.22619158,\n",
       "         0.22668221,  0.22711838,  0.2275062 ,  0.22785109,  0.22815783,\n",
       "         0.22843068,  0.2286734 ,  0.22888933,  0.22908144,  0.22925236,\n",
       "         0.22940443,  0.22953971,  0.22966005,  0.22976708,  0.22986226,\n",
       "         0.22994687,  0.23002206,  0.23008882,  0.23014807,  0.23020059,\n",
       "         0.23024707,  0.23028813,  0.23032431,  0.23035606,  0.2303838 ,\n",
       "         0.23040787,  0.23042855,  0.23044608,  0.23046064,  0.23047237,\n",
       "         0.23048136,  0.23048763,  0.23049117,  0.23049191,  0.23048971,\n",
       "         0.23048438,  0.23047565,  0.23046315,  0.23044646,  0.230425  ]])"
      ]
     },
     "execution_count": 8,
     "metadata": {},
     "output_type": "execute_result"
    }
   ],
   "source": [
    "lsr.reshape(1, 75)"
   ]
  },
  {
   "cell_type": "markdown",
   "metadata": {},
   "source": [
    "注意到lsr在后期几乎稳定在0.23左右，即该增长率在稳定状态是一个定值，拥有稳定增长的特性。"
   ]
  },
  {
   "cell_type": "markdown",
   "metadata": {},
   "source": [
    "### 2."
   ]
  },
  {
   "cell_type": "markdown",
   "metadata": {},
   "source": [
    "欧拉方程与消费约束为\n",
    "$$\\begin{aligned}\\frac{c_{t+1}-\\bar{c}}{c_t-\\bar{c}} &= \\beta [\\alpha  k_{t+1}^{\\alpha-1} + (1-\\delta)]\\end{aligned}$$\n",
    "$$\\begin{aligned}c_t+k_{t+1} -(1-\\delta)k_t &= k_t^{\\alpha}\\end{aligned}$$"
   ]
  },
  {
   "cell_type": "markdown",
   "metadata": {},
   "source": [
    "利用forward shooting解决该问题的思路为给定$k_0$并通过改变$c_0$的值并通过公式:"
   ]
  },
  {
   "cell_type": "markdown",
   "metadata": {},
   "source": [
    "$$\\begin{aligned}k_{t+1}=(1-\\delta)*k_t+k_t^{\\alpha}-c_t\\end{aligned}$$\n",
    "$$\\begin{aligned}c_{t+1}=\\beta*(c_t-\\bar{c})*((1-\\delta)+\\alpha*k_{t+1}^{\\alpha-1})+\\bar{c}\\end{aligned}$$"
   ]
  },
  {
   "cell_type": "markdown",
   "metadata": {},
   "source": [
    "来获得增长路径，并判断这些增长路径是否趋近于一个稳态。"
   ]
  },
  {
   "cell_type": "markdown",
   "metadata": {},
   "source": [
    "定义一个forward shotting的函数:"
   ]
  },
  {
   "cell_type": "code",
   "execution_count": 9,
   "metadata": {},
   "outputs": [],
   "source": [
    "def forward(c_0, n=200):\n",
    "    c_bar = 1\n",
    "    c = np.zeros((n, 1))\n",
    "    k = np.zeros((n, 1))\n",
    "    c[0] = c_0\n",
    "    k[0] = k_0\n",
    "    for i in range(n-1):\n",
    "        k[i+1] = k[i]**alpha+(1-delta)*k[i]-c[i]\n",
    "        c[i+1] = (c[i]-c_bar)*beta*((1-delta)+alpha*k[i+1]**(alpha-1))+c_bar\n",
    "        if k[i+1]<=0:\n",
    "            k[i+1]=0\n",
    "            break\n",
    "    return k, c"
   ]
  },
  {
   "cell_type": "markdown",
   "metadata": {},
   "source": [
    "以及一个进行二分法的函数："
   ]
  },
  {
   "cell_type": "code",
   "execution_count": 10,
   "metadata": {},
   "outputs": [],
   "source": [
    "def bisection():\n",
    "    c_bar = 1\n",
    "    c0_min = c_bar\n",
    "    c0_max = c_max\n",
    "    while c0_max-c0_min>10**(-10):\n",
    "        c0=(c0_min+c0_max)/2\n",
    "        k_simu, c_simu = forward(c0)\n",
    "        if k_simu[-1] <= k_ss:\n",
    "            c0_max = c0\n",
    "        else:\n",
    "            c0_min = c0\n",
    "    return k_simu, c_simu"
   ]
  },
  {
   "cell_type": "code",
   "execution_count": 11,
   "metadata": {},
   "outputs": [
    {
     "name": "stderr",
     "output_type": "stream",
     "text": [
      "D:\\anaconda\\envs\\virtualenvironment\\lib\\site-packages\\ipykernel_launcher.py:9: RuntimeWarning: invalid value encountered in power\n",
      "  if __name__ == '__main__':\n"
     ]
    }
   ],
   "source": [
    "k_forw, c_forw = bisection()"
   ]
  },
  {
   "cell_type": "code",
   "execution_count": 12,
   "metadata": {},
   "outputs": [
    {
     "data": {
      "image/png": "[encoded data removed]",
      "text/plain": [
       "<Figure size 432x288 with 1 Axes>"
      ]
     },
     "metadata": {
      "needs_background": "light"
     },
     "output_type": "display_data"
    }
   ],
   "source": [
    "plot_func(k_forw, c_forw, 'Forward method')"
   ]
  },
  {
   "cell_type": "markdown",
   "metadata": {},
   "source": [
    "可以明显看出stable saddle path在第一问中的结果的上方"
   ]
  },
  {
   "cell_type": "markdown",
   "metadata": {},
   "source": [
    "其中初始状态的$c_0$为"
   ]
  },
  {
   "cell_type": "code",
   "execution_count": 13,
   "metadata": {},
   "outputs": [
    {
     "data": {
      "text/plain": [
       "array([1.11045318])"
      ]
     },
     "execution_count": 13,
     "metadata": {},
     "output_type": "execute_result"
    }
   ],
   "source": [
    "c_forw[0]"
   ]
  },
  {
   "cell_type": "code",
   "execution_count": 19,
   "metadata": {},
   "outputs": [],
   "source": [
    "sr_b = k_forw/c_forw\n",
    "lsr_b = np.log(sr_b)-1"
   ]
  },
  {
   "cell_type": "code",
   "execution_count": 21,
   "metadata": {},
   "outputs": [
    {
     "data": {
      "text/plain": [
       "array([[-0.26557709, -0.2456988 , -0.22626672, -0.20731581, -0.18887458,\n",
       "        -0.17096554, -0.15360562, -0.13680664, -0.12057587, -0.1049165 ,\n",
       "        -0.08982813, -0.07530725, -0.06134768, -0.04794098, -0.03507683,\n",
       "        -0.02274333, -0.01092737,  0.00038516,  0.01120911,  0.02155984,\n",
       "         0.0314531 ,  0.04090482,  0.04993098,  0.05854756,  0.06677036,\n",
       "         0.074615  ,  0.08209681,  0.0892308 ,  0.0960316 ,  0.10251346,\n",
       "         0.1086902 ,  0.11457519,  0.12018139,  0.12552127,  0.13060685,\n",
       "         0.13544971,  0.14006098,  0.14445132,  0.14863098,  0.15260977,\n",
       "         0.15639709,  0.16000195,  0.16343293,  0.16669827,  0.16980582,\n",
       "         0.17276309,  0.17557725,  0.17825512,  0.18080323,  0.18322781,\n",
       "         0.18553479,  0.18772982,  0.18981829,  0.19180534,  0.19369586,\n",
       "         0.19549452,  0.19720576,  0.1988338 ,  0.20038268,  0.20185622,\n",
       "         0.20325808,  0.20459174,  0.20586051,  0.20706752,  0.20821579,\n",
       "         0.20930817,  0.21034736,  0.21133597,  0.21227643,  0.2131711 ,\n",
       "         0.21402221,  0.21483186,  0.21560208,  0.21633479,  0.21703181,\n",
       "         0.21769488,  0.21832566,  0.2189257 ,  0.21949652,  0.22003952,\n",
       "         0.22055608,  0.22104747,  0.22151491,  0.22195959,  0.2223826 ,\n",
       "         0.222785  ,  0.2231678 ,  0.22353194,  0.22387834,  0.22420787,\n",
       "         0.22452134,  0.22481953,  0.2251032 ,  0.22537304,  0.22562974,\n",
       "         0.22587393,  0.22610622,  0.22632719,  0.2265374 ,  0.22673736,\n",
       "         0.22692758,  0.22710853,  0.22728066,  0.22744441,  0.22760018,\n",
       "         0.22774835,  0.22788931,  0.2280234 ,  0.22815095,  0.22827229,\n",
       "         0.22838772,  0.22849753,  0.22860198,  0.22870134,  0.22879586,\n",
       "         0.22888578,  0.22897131,  0.22905268,  0.22913009,  0.22920372,\n",
       "         0.22927376,  0.22934039,  0.22940378,  0.22946408,  0.22952144,\n",
       "         0.229576  ,  0.22962791,  0.22967729,  0.22972427,  0.22976896,\n",
       "         0.22981147,  0.22985191,  0.22989038,  0.22992698,  0.2299618 ,\n",
       "         0.22999492,  0.23002644,  0.23005642,  0.23008494,  0.23011208,\n",
       "         0.23013789,  0.23016246,  0.23018583,  0.23020807,  0.23022923,\n",
       "         0.23024937,  0.23026853,  0.23028677,  0.23030413,  0.23032065,\n",
       "         0.23033638,  0.23035136,  0.23036562,  0.23037919,  0.23039213,\n",
       "         0.23040445,  0.23041619,  0.23042739,  0.23043806,  0.23044824,\n",
       "         0.23045796,  0.23046723,  0.23047609,  0.23048457,  0.23049267,\n",
       "         0.23050043,  0.23050787,  0.23051501,  0.23052187,  0.23052848,\n",
       "         0.23053484,  0.23054099,  0.23054695,  0.23055273,  0.23055835,\n",
       "         0.23056384,  0.23056922,  0.23057451,  0.23057973,  0.23058491,\n",
       "         0.23059007,  0.23059524,  0.23060044,  0.23060571,  0.23061106,\n",
       "         0.23061655,  0.23062219,  0.23062804,  0.23063412,  0.23064049,\n",
       "         0.23064719,  0.23065428,  0.2306618 ,  0.23066983,  0.23067844,\n",
       "         0.23068769,  0.23069767,  0.23070846,  0.23072018,  0.23073292]])"
      ]
     },
     "execution_count": 21,
     "metadata": {},
     "output_type": "execute_result"
    }
   ],
   "source": [
    "lsr_b.reshape(1, 200)"
   ]
  },
  {
   "cell_type": "markdown",
   "metadata": {},
   "source": [
    "当时间到达第18期时才开始增长，而第一问中第四期便开始增长。"
   ]
  },
  {
   "cell_type": "markdown",
   "metadata": {},
   "source": [
    "当时间到达第122期时，$k_t$大于4.62，因此可以认为第二问比第一问收敛地慢。可能的原因是forward shooting所找到的收敛路径会比backward shooting找到的路径与真实路径的区别更大。附上python代码的整合："
   ]
  },
  {
   "cell_type": "code",
   "execution_count": null,
   "metadata": {},
   "outputs": [],
   "source": [
    "# coding=utf-8\n",
    "import numpy as np\n",
    "import matplotlib.pyplot as plt\n",
    "\n",
    "\n",
    "delta, alpha, beta = 0.05, 0.3, 0.95\n",
    "k_ss = ((1/beta-1+delta)/alpha)**(1/(alpha-1))\n",
    "k_0 = k_ss/2\n",
    "k_max = (1/delta)**(1/(1-alpha))\n",
    "k_G = (alpha/delta)**(1/(1-alpha))\n",
    "\n",
    "def css(k):\n",
    "    return k**alpha-delta*k\n",
    "c_ss = css(k_ss)\n",
    "c_max = css(k_G)\n",
    "\n",
    "class Solution:\n",
    "    @staticmethod\n",
    "    def backward(n=200):\n",
    "        c = np.zeros((n, 1))\n",
    "        k = np.zeros((n, 1))\n",
    "        c[n-1] = c_ss\n",
    "        k[n-1] = k_ss-0.001     # 让C_t+1与C_t的比值略大于1\n",
    "        for i in range(n-1, 0, -1):\n",
    "            c[i-1] = c[i]/(beta*((1-delta)+alpha*k[i]**(alpha-1)))\n",
    "            k[i-1] = (c[i-1]+k[i]+(alpha-1)*k_ss**alpha)/(alpha*k_ss**(alpha-1)+(1-delta))\n",
    "            if k[i-1] <= k_0:\n",
    "                c = c[i-1:]\n",
    "                k = k[i-1:]     # 选取非零的有效期数\n",
    "                break\n",
    "        return k, c\n",
    "\n",
    "\n",
    "    @staticmethod\n",
    "    def forward(c_0, n=200):\n",
    "        c_bar = 1\n",
    "        c = np.zeros((n, 1))\n",
    "        k = np.zeros((n, 1))\n",
    "        c[0] = c_0\n",
    "        k[0] = k_0\n",
    "        for i in range(n-1):\n",
    "            k[i+1] = k[i]**alpha+(1-delta)*k[i]-c[i]\n",
    "            c[i+1] = (c[i]-c_bar)*beta*((1-delta)+alpha*k[i+1]**(alpha-1))+c_bar\n",
    "            if k[i+1]<=0:\n",
    "                k[i+1]=0\n",
    "                break\n",
    "        return k, c\n",
    "\n",
    "    @staticmethod\n",
    "    def bisection():\n",
    "        c_bar = 1\n",
    "        c0_min = c_bar\n",
    "        c0_max = c_max\n",
    "        while c0_max-c0_min>10**(-10):\n",
    "            c0=(c0_min+c0_max)/2\n",
    "            k_simu, c_simu = Solution.forward(c0)\n",
    "            if k_simu[-1] <= k_ss:\n",
    "                c0_max = c0\n",
    "            else:\n",
    "                c0_min = c0\n",
    "        return k_simu, c_simu\n",
    "\n",
    "\n",
    "\n",
    "    @staticmethod\n",
    "    def plot(k, c, title):\n",
    "        fig, ax = plt.subplots()\n",
    "        plt.xlim((0, k_max))\n",
    "        plt.ylim((0, 1.5*c_max))\n",
    "        k_simulation = np.linspace(0, k_max, 500)\n",
    "        ax.plot(k_simulation, css(k_simulation), label ='$\\dotk=0$', linestyle = '-.')\n",
    "        plt.axvline(x = k_ss, ymin = 0, ymax = 1.5*c_max, label = '$\\dotc=0$', linestyle = '-')\n",
    "        plt.axvline(x = k_0, ymin = 0 ,ymax = 1.5*c_max, label = '$k_0$', linestyle = ':')\n",
    "        ax.plot(k, c, label = \"stable saddle path\", linewidth = 2, linestyle = '--')\n",
    "        ax.legend(loc = \"upper right\")\n",
    "        ax.set_title(title, fontsize = 20, fontweight = 'heavy')\n",
    "        plt.show()\n",
    "\n",
    "if __name__ == '__main__':\n",
    "    s = Solution\n",
    "    k_back, c_back = s.backward()\n",
    "    s.plot(k_back, c_back, 'Backward method')\n",
    "    k_forward, c_forward = s.bisection()\n",
    "    s.plot(k_forward, c_forward, 'Forward method')\n"
   ]
  }
 ],
 "metadata": {
  "kernelspec": {
   "display_name": "Python 3",
   "language": "python",
   "name": "python3"
  },
  "language_info": {
   "codemirror_mode": {
    "name": "ipython",
    "version": 3
   },
   "file_extension": ".py",
   "mimetype": "text/x-python",
   "name": "python",
   "nbconvert_exporter": "python",
   "pygments_lexer": "ipython3",
   "version": "3.7.0"
  }
 },
 "nbformat": 4,
 "nbformat_minor": 2
}
