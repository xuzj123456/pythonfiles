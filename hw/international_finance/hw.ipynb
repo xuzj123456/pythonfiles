{
 "cells": [
  {
   "cell_type": "markdown",
   "metadata": {},
   "source": [
    "<font size=5><center>国际金融作业</center></font>"
   ]
  },
  {
   "cell_type": "markdown",
   "metadata": {},
   "source": [
    "根据论文中的算法3生成一条全经济的跨度为30年的违约路径（未分级）："
   ]
  },
  {
   "cell_type": "code",
   "execution_count": 1,
   "metadata": {},
   "outputs": [],
   "source": [
    "import numpy as np\n",
    "year = 30\n",
    "t_range = year*365      # 考虑的时间跨度\n",
    "c, k, sigma, gamma = 0.254, 0.004, 0.419, 0.810    # 参考论文取值\n",
    "lam_0 = 8.709\n",
    "lam_S = lam_0\n",
    "lam_Tn = lam_0\n",
    "S = 0\n",
    "defau_eco = []         # 全经济范围内的违约路径\n",
    "\n",
    "while True:     # 根据算法3生成全经济违约路径\n",
    "    eps = np.random.exponential(scale=lam_S, size=1)[0]\n",
    "    T = S + eps\n",
    "    if T >= t_range:\n",
    "        break\n",
    "    lam_T = c*lam_Tn + (lam_S-c*lam_Tn)*np.exp(-k*lam_Tn*(T-S))\n",
    "    u = np.random.normal(loc=0, scale=1)\n",
    "    if u <= lam_T/lam_S:\n",
    "        lam_T += max([gamma, sigma*lam_T])\n",
    "        defau_eco.append(T)\n",
    "        lam_Tn = lam_T\n",
    "    S = T\n",
    "    lam_S = lam_T"
   ]
  },
  {
   "cell_type": "markdown",
   "metadata": {},
   "source": [
    "所得到的defau_eco即为全经济违约路径。违约路径是违约时间所组成的列表。之后生成分信用等级的全经济违约路径，为简化处理，我们假设有4个等级，当一个违约出现时，发生在4个等级中的概率分别为0.1, 0.2, 0.3, 0.4："
   ]
  },
  {
   "cell_type": "code",
   "execution_count": 2,
   "metadata": {},
   "outputs": [],
   "source": [
    "p1, p2, p3, p4 = 0.1, 0.2, 0.3, 0.4       # 各评级违约概率\n",
    "defau_eco_1, defau_eco_2, defau_eco_3, defau_eco_4 = [], [], [], []\n",
    "\n",
    "for d in defau_eco:     # 生成各评级违约路径\n",
    "    u = np.random.uniform(0, 1)\n",
    "    if u <= p1:\n",
    "        defau_eco_1.append(d)\n",
    "    elif p1 < u and u <= p1+p2:\n",
    "        defau_eco_2.append(d)\n",
    "    elif u > p1+p2+p3:\n",
    "        defau_eco_4.append(d)\n",
    "    else:\n",
    "        defau_eco_3.append(d)\n",
    "\n",
    "defau_eco_rank = [defau_eco_1, defau_eco_2, defau_eco_3, defau_eco_4]"
   ]
  },
  {
   "cell_type": "markdown",
   "metadata": {},
   "source": [
    "接下来进行重抽样过程，首先对全经济与portfolio中各评级的债券数进行了一个预先的设定："
   ]
  },
  {
   "cell_type": "code",
   "execution_count": 3,
   "metadata": {},
   "outputs": [],
   "source": [
    "alpha = 0.5         # 参考论文取值\n",
    "X_0 = [30, 40, 50, 30]      # portfolio中含有的各评级债券数\n",
    "X_0_eco = [2000, 3000, 3000, 2000]      # 经济体中含有的各评级债券数\n",
    "\n",
    "num = 1000          # 重复抽样次数"
   ]
  },
  {
   "cell_type": "markdown",
   "metadata": {},
   "source": [
    "接下来根据算法1进行I=1K次的重抽样，vt来源于论文中的(4)式，Zt来源于论文中的(3)式："
   ]
  },
  {
   "cell_type": "code",
   "execution_count": 4,
   "metadata": {},
   "outputs": [],
   "source": [
    "defau_port = []      # 重复生成portfolio违约路径\n",
    "for i in range(num):      # 重复重抽样\n",
    "    d =[]\n",
    "    for t in defau_eco:\n",
    "        vt_1 = (len([x for x in defau_eco_1 if x<t]) + alpha) / \n",
    "                (len([x for x in defau_eco if x<t]) + alpha*4)\n",
    "        vt_2 = (len([x for x in defau_eco_2 if x<t]) + alpha) / \n",
    "                (len([x for x in defau_eco if x<t]) + alpha*4)\n",
    "        vt_3 = (len([x for x in defau_eco_3 if x<t]) + alpha) / \n",
    "                (len([x for x in defau_eco if x<t]) + alpha*4)\n",
    "        vt_4 = (len([x for x in defau_eco_4 if x<t]) + alpha) / \n",
    "                (len([x for x in defau_eco if x<t]) + alpha*4)\n",
    "\n",
    "        vt = [vt_1, vt_2, vt_3, vt_4]\n",
    "\n",
    "        Zt = 0\n",
    "        for i in range(4):\n",
    "            Zt += X_0[i]/(X_0_eco[i]-len([x for x in defau_eco_rank[i] if x<t]))*vt[i]\n",
    "\n",
    "        u = np.random.uniform(0, 1)\n",
    "        if u <= Zt:\n",
    "            d.append(t)\n",
    "\n",
    "    defau_port.append(d)\n",
    "    # 注意defau_port中的每一个元素都是一条路径"
   ]
  },
  {
   "cell_type": "markdown",
   "metadata": {},
   "source": [
    "defau_port即为所得到的1K条模拟的portfolio违约路径，是不分等级的。接下来是对违约路径进行一些处理，得到每一年的违约率。"
   ]
  },
  {
   "cell_type": "code",
   "execution_count": 5,
   "metadata": {},
   "outputs": [],
   "source": [
    "def get_by_year(d_path):\n",
    "    d = [0 for i in range(year)]\n",
    "    for t in d_path:\n",
    "        i = int(t//365)\n",
    "        d[i] += 1\n",
    "    return d\n",
    "eco_d_rate = [n/sum(X_0_eco)*100 for n in get_by_year(defau_eco)]\n",
    "\n",
    "port_d_num = np.array([get_by_year(d) for d in defau_port])\n",
    "port_d_rate = [np.mean(port_d_num[:, i])/sum(X_0)*100 for i in range(year)]"
   ]
  },
  {
   "cell_type": "markdown",
   "metadata": {},
   "source": [
    "eco_d_rate是全经济在30年内的违约率，port_d_rate是模拟的1K次portfolio违约路径30年内每年违约率的均值。分别对两组数据进行作图："
   ]
  },
  {
   "cell_type": "code",
   "execution_count": 6,
   "metadata": {},
   "outputs": [
    {
     "data": {
      "image/png": "[encoded data removed]",
      "text/plain": [
       "<Figure size 1080x576 with 2 Axes>"
      ]
     },
     "metadata": {
      "needs_background": "light"
     },
     "output_type": "display_data"
    }
   ],
   "source": [
    "import matplotlib.pyplot as plt\n",
    "%matplotlib inline\n",
    "plt.figure(figsize=(15, 8))\n",
    "plt.subplot(1, 2, 1)\n",
    "plt.subplots_adjust(left=0.1, right=0.9)\n",
    "plt.bar(range(1, year+1), eco_d_rate, fc='r')\n",
    "plt.ylabel('percent', fontsize=14)\n",
    "plt.xlabel('year', fontsize=14)\n",
    "plt.title('Economy Wide Annual Default Rate', fontsize=16)\n",
    "plt.subplot(1, 2, 2)\n",
    "plt.bar(range(1, year+1), port_d_rate, fc='b')\n",
    "plt.ylabel('percent', fontsize=14)\n",
    "plt.xlabel('year', fontsize=14)\n",
    "plt.title('Mean Annual Default Rate for I=1K Re-Sampling Scenarios', fontsize=16)\n",
    "plt.show()"
   ]
  },
  {
   "cell_type": "markdown",
   "metadata": {},
   "source": [
    "所得到的图形对应于论文中的figure1，左图为全经济违约率，右图为重抽样违约率的均值。"
   ]
  },
  {
   "cell_type": "markdown",
   "metadata": {},
   "source": [
    "最后是所有代码的整合："
   ]
  },
  {
   "cell_type": "code",
   "execution_count": null,
   "metadata": {},
   "outputs": [],
   "source": [
    "# coding=utf-8\n",
    "import numpy as np\n",
    "import matplotlib.pyplot as plt\n",
    "%matplotlib inline\n",
    "\n",
    "year = 30\n",
    "t_range = year*365      # 考虑的时间跨度\n",
    "c, k, sigma, gamma = 0.254, 0.004, 0.419, 0.810    # 参考论文取值\n",
    "lam_0 = 8.709\n",
    "lam_S = lam_0\n",
    "lam_Tn = lam_0\n",
    "S = 0\n",
    "defau_eco = []         # 全经济范围内的违约路径\n",
    "\n",
    "\n",
    "while True:     # 根据算法3生成全经济违约路径\n",
    "    eps = np.random.exponential(scale=lam_S, size=1)[0]\n",
    "    T = S + eps\n",
    "    if T >= t_range:\n",
    "        break\n",
    "    lam_T = c*lam_Tn + (lam_S-c*lam_Tn)*np.exp(-k*lam_Tn*(T-S))\n",
    "    u = np.random.normal(loc=0, scale=1)\n",
    "    if u <= lam_T/lam_S:\n",
    "        lam_T += max([gamma, sigma*lam_T])\n",
    "        defau_eco.append(T)\n",
    "        lam_Tn = lam_T\n",
    "    S = T\n",
    "    lam_S = lam_T\n",
    "\n",
    "\n",
    "p1, p2, p3, p4 = 0.1, 0.2, 0.3, 0.4       # 各评级违约概率\n",
    "defau_eco_1, defau_eco_2, defau_eco_3, defau_eco_4 = [], [], [], []\n",
    "\n",
    "for d in defau_eco:     # 生成各评级违约路径\n",
    "    u = np.random.uniform(0, 1)\n",
    "    if u <= p1:\n",
    "        defau_eco_1.append(d)\n",
    "    elif p1 < u and u <= p1+p2:\n",
    "        defau_eco_2.append(d)\n",
    "    elif u > p1+p2+p3:\n",
    "        defau_eco_4.append(d)\n",
    "    else:\n",
    "        defau_eco_3.append(d)\n",
    "\n",
    "defau_eco_rank = [defau_eco_1, defau_eco_2, defau_eco_3, defau_eco_4]\n",
    "\n",
    "\n",
    "alpha = 0.5         # 参考论文取值\n",
    "X_0 = [30, 40, 50, 30]      # portfolio中含有的各评级债券数\n",
    "X_0_eco = [2000, 3000, 3000, 2000]      # 经济体中含有的各评级债券数\n",
    "\n",
    "num = 1000          # 重复抽样次数\n",
    "\n",
    "\n",
    "defau_port = []      # 重复生成portfolio违约路径\n",
    "for i in range(num):      # 重复重抽样\n",
    "    d =[]\n",
    "    for t in defau_eco:\n",
    "        vt_1 = (len([x for x in defau_eco_1 if x<t]) + alpha) / \n",
    "                (len([x for x in defau_eco if x<t]) + alpha*4)\n",
    "        vt_2 = (len([x for x in defau_eco_2 if x<t]) + alpha) / \n",
    "                (len([x for x in defau_eco if x<t]) + alpha*4)\n",
    "        vt_3 = (len([x for x in defau_eco_3 if x<t]) + alpha) / \n",
    "                (len([x for x in defau_eco if x<t]) + alpha*4)\n",
    "        vt_4 = (len([x for x in defau_eco_4 if x<t]) + alpha) / \n",
    "                (len([x for x in defau_eco if x<t]) + alpha*4)\n",
    "\n",
    "        vt = [vt_1, vt_2, vt_3, vt_4]\n",
    "\n",
    "        Zt = 0\n",
    "        for i in range(4):\n",
    "            Zt += X_0[i]/(X_0_eco[i]-len([x for x in defau_eco_rank[i] if x<t]))*vt[i]\n",
    "\n",
    "        u = np.random.uniform(0, 1)\n",
    "        if u <= Zt:\n",
    "            d.append(t)\n",
    "\n",
    "    defau_port.append(d)\n",
    "    # 注意defau_port中的每一个元素都是一条路径\n",
    "\n",
    "def get_by_year(d_path):\n",
    "    d = [0 for i in range(year)]\n",
    "    for t in d_path:\n",
    "        i = int(t//365)\n",
    "        d[i] += 1\n",
    "    return d\n",
    "\n",
    "eco_d_rate = [n/sum(X_0_eco)*100 for n in get_by_year(defau_eco)]\n",
    "\n",
    "port_d_num = np.array([get_by_year(d) for d in defau_port])\n",
    "port_d_rate = [np.mean(port_d_num[:, i])/sum(X_0)*100 for i in range(year)]\n",
    "\n",
    "\n",
    "plt.figure(figsize=(15, 8))\n",
    "plt.subplot(1, 2, 1)\n",
    "plt.subplots_adjust(left=0.1, right=0.9)\n",
    "plt.bar(range(1, year+1), eco_d_rate, fc='r')\n",
    "plt.ylabel('percent', fontsize=14)\n",
    "plt.xlabel('year', fontsize=14)\n",
    "plt.title('Economy Wide Annual Default Rate', fontsize=16)\n",
    "plt.subplot(1, 2, 2)\n",
    "plt.bar(range(1, year+1), port_d_rate, fc='b')\n",
    "plt.ylabel('percent', fontsize=14)\n",
    "plt.xlabel('year', fontsize=14)\n",
    "plt.title('Mean Annual Default Rate for I=1K Re-Sampling Scenarios', fontsize=16)\n",
    "plt.show()\n"
   ]
  }
 ],
 "metadata": {
  "kernelspec": {
   "display_name": "Python 3",
   "language": "python",
   "name": "python3"
  },
  "language_info": {
   "codemirror_mode": {
    "name": "ipython",
    "version": 3
   },
   "file_extension": ".py",
   "mimetype": "text/x-python",
   "name": "python",
   "nbconvert_exporter": "python",
   "pygments_lexer": "ipython3",
   "version": "3.7.0"
  }
 },
 "nbformat": 4,
 "nbformat_minor": 2
}
