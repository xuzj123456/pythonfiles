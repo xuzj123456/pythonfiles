{
 "cells": [
  {
   "cell_type": "markdown",
   "metadata": {},
   "source": [
    "<font face=\"黑体\" size=3><center>姓名：徐子杰</center>\n",
    "<font face=\"黑体\" size=3><center>学号：2016302010098</center>\n",
    "<font face=\"黑体\" size=3><center>专业：数理金融</center>"
   ]
  },
  {
   "cell_type": "markdown",
   "metadata": {},
   "source": [
    "### 1."
   ]
  },
  {
   "cell_type": "markdown",
   "metadata": {},
   "source": [
    "根据欧拉方程与消费约束\n",
    "$$\\begin{aligned}\\frac{c_{t+1}}{c_t} &= \\beta [\\alpha  k_{t+1}^{\\alpha-1} + (1-\\delta)]\\end{aligned}$$\n",
    "$$\\begin{aligned}c_t+k_{t+1} -(1-\\delta)k_t &= k_t^{\\alpha}\\end{aligned}$$"
   ]
  },
  {
   "cell_type": "markdown",
   "metadata": {},
   "source": [
    "与已有数据计算出下列数据:"
   ]
  },
  {
   "cell_type": "code",
   "execution_count": 5,
   "metadata": {},
   "outputs": [],
   "source": [
    "delta, alpha, beta = 0.05, 0.3, 0.95\n",
    "k_ss = ((1/beta-1+delta)/alpha)**(1/(alpha-1))\n",
    "k_0 = k_ss/2\n",
    "k_max = (1/delta)**(1/(1-alpha))\n",
    "k_G = (alpha/delta)**(1/(1-alpha))"
   ]
  },
  {
   "cell_type": "markdown",
   "metadata": {},
   "source": [
    "并定义一个$\\begin{aligned}\\dot{k}=0\\end{aligned}$的函数css:"
   ]
  },
  {
   "cell_type": "code",
   "execution_count": 6,
   "metadata": {},
   "outputs": [],
   "source": [
    "def css(k):\n",
    "    return k**alpha-delta*k\n",
    "c_ss = css(k_ss)\n",
    "c_max = css(k_G)"
   ]
  },
  {
   "cell_type": "markdown",
   "metadata": {},
   "source": [
    "在已有$k_{ss}$与$c_{ss}$的情况下通过将$k_t^{\\alpha}$进行泰勒展开得到$k_t^{\\alpha}=k_{ss}^{\\alpha}+\\alpha*k_{ss}^{\\alpha-1}*(k_t-k_ss)$,得到公式\n",
    "$$\n",
    "\\begin{aligned}\n",
    "c_t=\\frac{c_{t+1}}{\\beta*((1-\\delta)+\\alpha*k_{t+1}^{\\alpha-1})}\\\\\n",
    "k_t=\\frac{c_t+k_{t+1}+(\\alpha-1)*k_{ss}^{\\alpha}}{\\alpha*k_{ss}^{\\alpha-1}+(1-\\delta)}\n",
    "\\end{aligned}\n",
    "$$"
   ]
  },
  {
   "cell_type": "markdown",
   "metadata": {},
   "source": [
    "因此可以定义一个进行backward shooting的函数:"
   ]
  },
  {
   "cell_type": "code",
   "execution_count": 8,
   "metadata": {},
   "outputs": [],
   "source": [
    "import numpy as np\n",
    "def backward(n=200):\n",
    "    c = np.zeros((n, 1))\n",
    "    k = np.zeros((n, 1))\n",
    "    c[n-1] = c_ss\n",
    "    k[n-1] = k_ss-0.001     # 让c_t+1与c_t的比值略大于1\n",
    "    for i in range(n-1, 0, -1):\n",
    "        c[i-1] = c[i]/(beta*((1-delta)+alpha*k[i]**(alpha-1)))\n",
    "        k[i-1] = (c[i-1]+k[i]+(alpha-1)*k_ss**alpha)/(alpha*k_ss**(alpha-1)+(1-delta))\n",
    "        if k[i-1] <= k_0:   \n",
    "            c = c[i-1:]\n",
    "            k = k[i-1:]     # 选取非零的有效期数\n",
    "            break\n",
    "    return k, c"
   ]
  },
  {
   "cell_type": "code",
   "execution_count": 11,
   "metadata": {},
   "outputs": [],
   "source": [
    "k_back, c_back = backward()"
   ]
  },
  {
   "cell_type": "markdown",
   "metadata": {},
   "source": [
    "这样就得到了收敛于均衡点的序列，通过定义一个画图函数来作图："
   ]
  },
  {
   "cell_type": "code",
   "execution_count": 15,
   "metadata": {},
   "outputs": [],
   "source": [
    "import matplotlib.pyplot as plt\n",
    "def plot_func(k, c, title):\n",
    "    fig, ax = plt.subplots()\n",
    "    plt.xlim((0, k_max))\n",
    "    plt.ylim((0, 1.5*c_max))\n",
    "    k_simulation = np.linspace(0, k_max, 500)\n",
    "    ax.plot(k_simulation, css(k_simulation), label ='$\\dotk=0$', linestyle = '-.')\n",
    "    plt.axvline(x = k_ss, ymin = 0, ymax = 1.5*c_max, label = '$\\dotc=0$', linestyle = '-')\n",
    "    plt.axvline(x = k_0, ymin = 0 ,ymax = 1.5*c_max, label = '$k_0$', linestyle = ':')\n",
    "    ax.plot(k, c, label = \"stable saddle path\", linewidth = 2, linestyle = '--')\n",
    "    ax.legend(loc = \"upper right\")\n",
    "    ax.set_title(title, fontsize = 20, fontweight = 'heavy')\n",
    "    plt.show()"
   ]
  },
  {
   "cell_type": "code",
   "execution_count": 16,
   "metadata": {},
   "outputs": [
    {
     "data": {
      "image/png": "[encoded data removed]",
      "text/plain": [
       "<Figure size 432x288 with 1 Axes>"
      ]
     },
     "metadata": {
      "needs_background": "light"
     },
     "output_type": "display_data"
    }
   ],
   "source": [
    "plot_func(k_back, c_back, 'Backward method')"
   ]
  },
  {
   "cell_type": "markdown",
   "metadata": {},
   "source": [
    "c_back的长度为75期，即通过了75期从初始状态收敛到稳定状态。"
   ]
  },
  {
   "cell_type": "markdown",
   "metadata": {},
   "source": [
    "求出数据$\\frac{k_t}{y_t}$与$\\ln(\\frac{k_t}{y_t})-1$"
   ]
  },
  {
   "cell_type": "code",
   "execution_count": 23,
   "metadata": {},
   "outputs": [],
   "source": [
    "sr = k_back/c_back\n",
    "lsr = np.log(sr)-1"
   ]
  },
  {
   "cell_type": "code",
   "execution_count": 30,
   "metadata": {},
   "outputs": [
    {
     "data": {
      "text/plain": [
       "array([[-0.17475736, -0.09967009, -0.04331616,  0.00045957,  0.03532862,\n",
       "         0.06363646,  0.08696127,  0.10640909,  0.12278092,  0.13667275,\n",
       "         0.14853816,  0.15872902,  0.16752282,  0.1751415 ,  0.18176478,\n",
       "         0.18753975,  0.19258796,  0.19701069,  0.20089294,  0.20430652,\n",
       "         0.20731246,  0.20996286,  0.21230244,  0.21436973,  0.21619804,\n",
       "         0.21781624,  0.21924947,  0.22051965,  0.22164594,  0.2226451 ,\n",
       "         0.22353186,  0.22431917,  0.22501839,  0.22563958,  0.22619158,\n",
       "         0.22668221,  0.22711838,  0.2275062 ,  0.22785109,  0.22815783,\n",
       "         0.22843068,  0.2286734 ,  0.22888933,  0.22908144,  0.22925236,\n",
       "         0.22940443,  0.22953971,  0.22966005,  0.22976708,  0.22986226,\n",
       "         0.22994687,  0.23002206,  0.23008882,  0.23014807,  0.23020059,\n",
       "         0.23024707,  0.23028813,  0.23032431,  0.23035606,  0.2303838 ,\n",
       "         0.23040787,  0.23042855,  0.23044608,  0.23046064,  0.23047237,\n",
       "         0.23048136,  0.23048763,  0.23049117,  0.23049191,  0.23048971,\n",
       "         0.23048438,  0.23047565,  0.23046315,  0.23044646,  0.230425  ]])"
      ]
     },
     "execution_count": 30,
     "metadata": {},
     "output_type": "execute_result"
    }
   ],
   "source": [
    "lsr.reshape(1, 75)"
   ]
  },
  {
   "cell_type": "markdown",
   "metadata": {},
   "source": [
    "注意到lsr在后期几乎稳定在0.23左右，即该增长率在稳定状态是一个定值，拥有稳定增长的特性。"
   ]
  },
  {
   "cell_type": "markdown",
   "metadata": {},
   "source": [
    "### 2."
   ]
  },
  {
   "cell_type": "markdown",
   "metadata": {},
   "source": [
    "欧拉方程与消费约束为\n",
    "$$\\begin{aligned}\\frac{c_{t+1}-\\bar{c}}{c_t-\\bar{c}} &= \\beta [\\alpha  k_{t+1}^{\\alpha-1} + (1-\\delta)]\\end{aligned}$$\n",
    "$$\\begin{aligned}c_t+k_{t+1} -(1-\\delta)k_t &= k_t^{\\alpha}\\end{aligned}$$"
   ]
  },
  {
   "cell_type": "markdown",
   "metadata": {},
   "source": [
    "利用forward shooting解决该问题的思路为给定$k_0$并通过改变$c_0$的值并通过公式:"
   ]
  },
  {
   "cell_type": "markdown",
   "metadata": {},
   "source": [
    "$$\\begin{aligned}k_{t+1}=(1-\\delta)*k_t+k_t^{\\alpha}-c_t\\end{aligned}$$\n",
    "$$\\begin{aligned}c_{t+1}=\\beta*(c_t-\\bar{c})*((1-\\delta)+\\alpha*k_{t+1}^{\\alpha-1})+\\bar{c}\\end{aligned}$$"
   ]
  },
  {
   "cell_type": "markdown",
   "metadata": {},
   "source": [
    "来获得增长路径，并判断这些增长路径是否趋近于一个稳态。"
   ]
  },
  {
   "cell_type": "markdown",
   "metadata": {},
   "source": [
    "定义一个forward shotting的函数:"
   ]
  },
  {
   "cell_type": "code",
   "execution_count": 33,
   "metadata": {},
   "outputs": [],
   "source": [
    "def forward(n=200):\n",
    "    c_bar = 1\n",
    "    for c_0 in np.linspace(c_bar, c_max, 10000):\n",
    "        c = np.zeros((n, 1))\n",
    "        k = np.zeros((n, 1))\n",
    "        c[0] = c_0\n",
    "        k[0] = k_0\n",
    "        try:\n",
    "            for i in range(n-1):\n",
    "                k[i+1] = k[i]**alpha+(1-delta)*k[i]-c[i]\n",
    "                c[i+1] = (c[i]-c_bar)*beta*((1-delta)+alpha*k[i+1]**(alpha-1))+c_bar\n",
    "                if k[i+1] <= 0:\n",
    "                    raise Exception\n",
    "            if abs(k[-1]-k_ss) <= 0.01 and abs(c[-1]-c_ss) <= 0.01:\n",
    "                return k, c\n",
    "        except:\n",
    "            pass\n",
    "    return k, c"
   ]
  },
  {
   "cell_type": "code",
   "execution_count": 38,
   "metadata": {},
   "outputs": [
    {
     "name": "stderr",
     "output_type": "stream",
     "text": [
      "D:\\anaconda\\envs\\virtualenvironment\\lib\\site-packages\\ipykernel_launcher.py:11: RuntimeWarning: invalid value encountered in power\n",
      "  # This is added back by InteractiveShellApp.init_path()\n"
     ]
    }
   ],
   "source": [
    "k_forw, c_forw = forward()"
   ]
  },
  {
   "cell_type": "code",
   "execution_count": 40,
   "metadata": {},
   "outputs": [
    {
     "data": {
      "image/png": "[encoded data removed]",
      "text/plain": [
       "<Figure size 432x288 with 1 Axes>"
      ]
     },
     "metadata": {
      "needs_background": "light"
     },
     "output_type": "display_data"
    }
   ],
   "source": [
    "plot_func(k_forw, c_forw, 'Forward method')"
   ]
  },
  {
   "cell_type": "markdown",
   "metadata": {},
   "source": [
    "并没有找到收敛路径...摸索了很长时间也并没有找到问题出在什么地方，实在是没办法了..."
   ]
  },
  {
   "cell_type": "markdown",
   "metadata": {},
   "source": [
    "附上python代码的整合："
   ]
  },
  {
   "cell_type": "code",
   "execution_count": null,
   "metadata": {},
   "outputs": [],
   "source": [
    "# coding=utf-8\n",
    "import numpy as np\n",
    "import matplotlib.pyplot as plt\n",
    "\n",
    "\n",
    "delta, alpha, beta = 0.05, 0.3, 0.95\n",
    "k_ss = ((1/beta-1+delta)/alpha)**(1/(alpha-1))\n",
    "k_0 = k_ss/2\n",
    "k_max = (1/delta)**(1/(1-alpha))\n",
    "k_G = (alpha/delta)**(1/(1-alpha))\n",
    "\n",
    "def css(k):\n",
    "    return k**alpha-delta*k\n",
    "c_ss = css(k_ss)\n",
    "c_max = css(k_G)\n",
    "\n",
    "class Solution:\n",
    "    @staticmethod\n",
    "    def backward(n=200):\n",
    "        c = np.zeros((n, 1))\n",
    "        k = np.zeros((n, 1))\n",
    "        c[n-1] = c_ss\n",
    "        k[n-1] = k_ss-0.001     # 让C_t+1与C_t的比值略大于1\n",
    "        for i in range(n-1, 0, -1):\n",
    "            c[i-1] = c[i]/(beta*((1-delta)+alpha*k[i]**(alpha-1)))\n",
    "            k[i-1] = (c[i-1]+k[i]+(alpha-1)*k_ss**alpha)/(alpha*k_ss**(alpha-1)+(1-delta))\n",
    "            if k[i-1] <= k_0:\n",
    "                c = c[i-1:]\n",
    "                k = k[i-1:]     # 选取非零的有效期数\n",
    "                break\n",
    "        return k, c\n",
    "\n",
    "\n",
    "    @staticmethod\n",
    "    def forward(n=200):\n",
    "        c_bar = 1\n",
    "        for c_0 in np.linspace(c_bar, c_max, 10000):\n",
    "            c = np.zeros((n, 1))\n",
    "            k = np.zeros((n, 1))\n",
    "            c[0] = c_0\n",
    "            k[0] = k_0\n",
    "            try:\n",
    "                for i in range(n-1):\n",
    "                    k[i+1] = k[i]**alpha+(1-delta)*k[i]-c[i]\n",
    "                    c[i+1] = (c[i]-c_bar)*beta*((1-delta)+alpha*k[i+1]**(alpha-1))+c_bar\n",
    "                    if k[i+1] <= 0:\n",
    "                        raise Exception\n",
    "                if abs(k[-1]-k_ss) <= 0.01 and abs(c[-1]-c_ss) <= 0.01:\n",
    "                    return k, c\n",
    "            except:\n",
    "                pass\n",
    "        return k, c\n",
    "\n",
    "\n",
    "    @staticmethod\n",
    "    def plot(k, c, title):\n",
    "        fig, ax = plt.subplots()\n",
    "        plt.xlim((0, k_max))\n",
    "        plt.ylim((0, 1.5*c_max))\n",
    "        k_simulation = np.linspace(0, k_max, 500)\n",
    "        ax.plot(k_simulation, css(k_simulation), label ='$\\dotk=0$', linestyle = '-.')\n",
    "        plt.axvline(x = k_ss, ymin = 0, ymax = 1.5*c_max, label = '$\\dotc=0$', linestyle = '-')\n",
    "        plt.axvline(x = k_0, ymin = 0 ,ymax = 1.5*c_max, label = '$k_0$', linestyle = ':')\n",
    "        ax.plot(k, c, label = \"stable saddle path\", linewidth = 2, linestyle = '--')\n",
    "        ax.legend(loc = \"upper right\")\n",
    "        ax.set_title(title, fontsize = 20, fontweight = 'heavy')\n",
    "        plt.show()\n",
    "\n",
    "if __name__ == '__main__':\n",
    "    s = Solution\n",
    "    k_back, c_back = s.backward()\n",
    "    s.plot(k_back, c_back, 'Backward method')\n",
    "    k_forward, c_forward = s.forward()\n",
    "    s.plot(k_forward, c_forward, 'Forward method')\n"
   ]
  }
 ],
 "metadata": {
  "kernelspec": {
   "display_name": "Python 3",
   "language": "python",
   "name": "python3"
  },
  "language_info": {
   "codemirror_mode": {
    "name": "ipython",
    "version": 3
   },
   "file_extension": ".py",
   "mimetype": "text/x-python",
   "name": "python",
   "nbconvert_exporter": "python",
   "pygments_lexer": "ipython3",
   "version": "3.7.0"
  }
 },
 "nbformat": 4,
 "nbformat_minor": 2
}
